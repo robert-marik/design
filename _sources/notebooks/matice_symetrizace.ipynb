{
 "cells": [
  {
   "cell_type": "markdown",
   "id": "3472978a-d81f-42f6-9965-792a5d9ad1ae",
   "metadata": {},
   "source": [
    "# Symetrizace matice transformace\n",
    "\n"
   ]
  },
  {
   "cell_type": "code",
   "execution_count": null,
   "id": "b0c67552-36d6-41fb-b338-8a578fdce99d",
   "metadata": {},
   "outputs": [],
   "source": [
    "import numpy as np\n",
    "np.set_printoptions(precision=3, suppress=True)\n",
    "from numpy import sqrt, sin, cos, pi\n",
    "import matplotlib.pyplot as plt\n",
    "from matplotlib.patches import Polygon\n",
    "vzory=np.array([[0,0],[1,0],[1,1],[.5,1.6],[0,1],[0,0]]).T\n",
    "plt.plot(*vzory)\n",
    "plt.gca().set_aspect('equal')\n"
   ]
  },
  {
   "cell_type": "markdown",
   "id": "c1f3f050-4187-458d-ad15-0bceb3ae7baf",
   "metadata": {},
   "source": [
    "\n",
    "Modrý domeček postupně zobrazujeme různými maticemi."
   ]
  },
  {
   "cell_type": "code",
   "execution_count": null,
   "id": "503303d3-fd24-4ce2-a54c-72480ab056b0",
   "metadata": {},
   "outputs": [],
   "source": [
    "import numpy as np\n",
    "A=np.array([[.1,0.25],[0.05,-.2]])\n",
    "AT=A.transpose()\n",
    "B_sym=(A+AT)/2\n",
    "B_asym=(A-AT)/2\n",
    "\n",
    "def transformuj(M, vzory=vzory):\n",
    "    obrazy = (np.eye(2) + M) @ vzory\n",
    "    fig,ax = plt.subplots(figsize=(8,8))\n",
    "    poly = Polygon(vzory.T, facecolor='C0', alpha=0.5)\n",
    "    ax.add_patch(poly)\n",
    "    poly = Polygon(obrazy.T, facecolor='C1', alpha=0.5)\n",
    "    ax.add_patch(poly)\n",
    "    ax.plot(*vzory, *obrazy)\n",
    "    ax.set(title=M)\n",
    "    ax.set_aspect('equal')\n",
    "    ax.grid()\n",
    "\n",
    "for M in [A,B_sym, B_asym]:\n",
    "    transformuj(M)\n",
    "    "
   ]
  },
  {
   "cell_type": "code",
   "execution_count": null,
   "id": "d6200186",
   "metadata": {},
   "outputs": [],
   "source": []
  }
 ],
 "metadata": {
  "kernelspec": {
   "display_name": "Python 3 (ipykernel)",
   "language": "python",
   "name": "python3"
  },
  "language_info": {
   "codemirror_mode": {
    "name": "ipython",
    "version": 3
   },
   "file_extension": ".py",
   "mimetype": "text/x-python",
   "name": "python",
   "nbconvert_exporter": "python",
   "pygments_lexer": "ipython3",
   "version": "3.12.2"
  }
 },
 "nbformat": 4,
 "nbformat_minor": 5
}
